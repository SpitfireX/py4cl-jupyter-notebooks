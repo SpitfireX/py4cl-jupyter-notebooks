{
 "cells": [
  {
   "cell_type": "markdown",
   "metadata": {},
   "source": [
    "# Einführung\n",
    "\n",
    "## Allgemeines zu RegEx in Python\n",
    "\n",
    "Der gebräuchlichste Weg, um Reguläre Ausdrücke in Python zu benutzen ist über das `re`-Modul aus der Standardbibliothek und diese Sammlung an Jupyter-Notebooks beschäftigt sich hauptsächlich mit diesem. Das `re`-Modul implementiert \"Perl-ähnliche reguläre Ausdrücke\" mit einer Syntax, die in den meisten Fällen vergleichbar mit Perl Compatible Regular Expressions (PCRE) ist. Deswegen ist es nützlich, für die folgenden Übungen eine Übersicht zur PCRE-Syntax bereit zu haben.\n",
    "\n",
    "Ein gutes PCRE-Cheatsheet gibt es z. B. [hier](https://www.debuggex.com/cheatsheet/regex/pcre).\n",
    "\n",
    "Eine Übersicht über alle Funktionen und Eigenheiten des `re`-Moduls gibt es in der [offiziellen Dokumentation](https://docs.python.org/3/library/re.html)."
   ]
  },
  {
   "cell_type": "markdown",
   "metadata": {},
   "source": [
    "## Speicherung von regulären Ausdrücken in Python\n",
    "\n",
    "Reguläre Ausdrücke werden in Python als Strings gespeichert. Um Fehler durch Escape Codes zu vermeiden, bietet es sich zudem an, reguläre Ausdrücke *immer* als Raw String Literals anzugeben. Dazu muss einem gewöhnlichen String nur ein \"r\" vorangestellt werden."
   ]
  },
  {
   "cell_type": "code",
   "execution_count": 7,
   "metadata": {},
   "outputs": [
    {
     "name": "stdout",
     "output_type": "stream",
     "text": [
      "ich bin ein gewöhnlicher String und ich enthalte \n",
      " escape codes! ♥\n",
      "ich bin ein Raw String und ich enthalte \\n escape codes! \\u2665\n"
     ]
    }
   ],
   "source": [
    "normal_string = \"ich bin ein gewöhnlicher String und ich enthalte \\n escape codes! \\u2665\"\n",
    "\n",
    "raw_string = r\"ich bin ein Raw String und ich enthalte \\n escape codes! \\u2665\"\n",
    "\n",
    "print(normal_string)\n",
    "print(raw_string)"
   ]
  },
  {
   "cell_type": "markdown",
   "metadata": {},
   "source": [
    "Wie aus dem Beispiel ersichtlich wird, löst Python intern die Backslashes im Raw String nicht auf. `\\n` wird nicht als Zeilenumbruch interpretiert und `\\u2665` wird als \"\\u2665\" ausgegeben und nicht als Unicode-Zeichen für ein Herz.\n",
    "\n",
    "Vor allem das Arbeiten mit Backslashes in regulären Ausdrücken wird so extrem vereinfacht. Da wörtliche Backslashes in regulären Ausdrücken durch einen Backslash escapet werden müssen, müssten diese im Falle von normalen Python-Strings doppelt escapet werden."
   ]
  },
  {
   "cell_type": "code",
   "execution_count": 8,
   "metadata": {},
   "outputs": [],
   "source": [
    "# ein regulärer Ausdruck für beliebig viele Backslashes, sowohl als normaler Python String als auch als Raw String:\n",
    "backslash_normal = \"\\\\\\\\+\"\n",
    "backslash_raw = r\"\\\\+\"\n",
    "\n",
    "# ein regulärer Ausdruck für beliebig viele Tab-Zeichen\n",
    "tab_normal = \"\\\\t+\"\n",
    "tab_raw = r\"\\t+\""
   ]
  },
  {
   "cell_type": "markdown",
   "metadata": {},
   "source": [
    "Durch den Gebrauch von Raw Strings können lästige (und potenziell verwirrende) Doppelescapes vermieden werden."
   ]
  }
 ],
 "metadata": {
  "kernelspec": {
   "display_name": "Python 3",
   "language": "python",
   "name": "python3"
  },
  "language_info": {
   "codemirror_mode": {
    "name": "ipython",
    "version": 3
   },
   "file_extension": ".py",
   "mimetype": "text/x-python",
   "name": "python",
   "nbconvert_exporter": "python",
   "pygments_lexer": "ipython3",
   "version": "3.8.2"
  }
 },
 "nbformat": 4,
 "nbformat_minor": 4
}
