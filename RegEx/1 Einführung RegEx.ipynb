{
 "cells": [
  {
   "cell_type": "markdown",
   "metadata": {},
   "source": [
    "# Einführung\n",
    "\n",
    "## Allgemeines zu RegEx in Python\n",
    "\n",
    "Der gebräuchlichste Weg, um reguläre Ausdrücke in Python zu benutzen, ist über das `re`-Modul aus der Standardbibliothek. Diese Sammlung an Jupyter-Notebooks beschäftigt sich daher hauptsächlich mit diesem. Das `re`-Modul implementiert \"Perl-ähnliche reguläre Ausdrücke\" mit einer Syntax, die in den meisten Fällen vergleichbar mit *Perl Compatible Regular Expressions* (PCRE) ist. Deswegen ist es nützlich, für die folgenden Übungen eine Übersicht zur PCRE-Syntax bereit zu haben.\n",
    "\n",
    "Ein gutes PCRE-Cheatsheet gibt es z. B. [hier](https://www.debuggex.com/cheatsheet/regex/pcre) (am besten oben rechts auf \"Python\" umstellen).\n",
    "\n",
    "Eine Übersicht über alle Funktionen und Eigenheiten des `re`-Moduls gibt es in der [offiziellen Dokumentation](https://docs.python.org/3/library/re.html).\n",
    "\n",
    "Zum Testen/Überprüfen/Nachvollziehen von regulären Ausdrücken ist oft ein Regex-Debugger hilfreich. Empfehlenswert ist [regex101](https://regex101.com/), da er auch einen Python-Modus bietet."
   ]
  },
  {
   "cell_type": "markdown",
   "metadata": {},
   "source": [
    "## Angabe von regulären Ausdrücken in Python\n",
    "\n",
    "Reguläre Ausdrücke werden in Python als Strings angegeben. Um Fehler durch Escape Codes zu vermeiden, bietet es sich zudem an, reguläre Ausdrücke *immer* als Raw String Literals anzugeben. Dazu muss einem gewöhnlichen String nur ein \"r\" vorangestellt werden."
   ]
  },
  {
   "cell_type": "code",
   "execution_count": 7,
   "metadata": {},
   "outputs": [
    {
     "name": "stdout",
     "output_type": "stream",
     "text": [
      "ich bin ein gewöhnlicher String und ich enthalte \n",
      " escape codes! ♥\n",
      "ich bin ein Raw String und ich enthalte \\n escape codes! \\u2665\n"
     ]
    }
   ],
   "source": [
    "normal_string = \"ich bin ein gewöhnlicher String und ich enthalte \\n escape codes! \\u2665\"\n",
    "\n",
    "raw_string = r\"ich bin ein Raw String und ich enthalte \\n escape codes! \\u2665\"\n",
    "\n",
    "print(normal_string)\n",
    "print(raw_string)"
   ]
  },
  {
   "cell_type": "markdown",
   "metadata": {},
   "source": [
    "Wie aus dem Beispiel ersichtlich wird, löst Python intern die Backslashes im Raw String nicht auf. `\\n` wird nicht als Zeilenumbruch interpretiert und `\\u2665` wird als \"\\u2665\" ausgegeben und nicht als Unicode-Zeichen für ein Herz.\n",
    "\n",
    "Vor allem das Arbeiten mit Backslashes in regulären Ausdrücken wird so extrem vereinfacht. Da wörtliche Backslashes in regulären Ausdrücken durch einen Backslash maskiert (\"escapet\") werden müssen, müssten diese im Falle von normalen Python-Strings doppelt maskiert werden."
   ]
  },
  {
   "cell_type": "code",
   "execution_count": 1,
   "metadata": {
    "collapsed": true
   },
   "outputs": [],
   "source": [
    "# ein regulärer Ausdruck für beliebig viele Backslashes, sowohl als normaler Python String als auch als Raw String:\n",
    "backslash_normal = \"\\\\\\\\+\"\n",
    "backslash_raw = r\"\\\\+\"\n",
    "\n",
    "# ein regulärer Ausdruck für beliebig viele Tab-Zeichen\n",
    "tab_normal = \"\\\\t+\"\n",
    "tab_raw = r\"\\t+\""
   ]
  },
  {
   "cell_type": "markdown",
   "metadata": {},
   "source": [
    "Durch den Gebrauch von Raw Strings können lästige (und potentiell verwirrende) Doppel-Escapes vermieden werden.\n",
    "\n",
    "### Zeichenklassen (*character classes*)\n",
    "\n",
    "Eine Anmerkung zu Zeichenklassen: das `re`-Modul unterstützt **keine** POSIX-/Unix-Zeichenklassen wie z. B. `[:alnum:]`. Es werden lediglich die folgenden Perl-kompatiblen Zeichenklassen unterstützt:"
   ]
  },
  {
   "cell_type": "raw",
   "metadata": {},
   "source": [
    "\\d    One digit\n",
    "\\D    One non-digit\n",
    "\\s    One whitespace\n",
    "\\S    One non-whitespace\n",
    "\\w    One word character\n",
    "\\W    One non-word character"
   ]
  },
  {
   "cell_type": "markdown",
   "metadata": {},
   "source": [
    "Wer unbedingt POSIX-Zeichenklassen in Python verwenden möchte, muss daher auf ein anderes Modul (wie `regex`) zurückgreifen."
   ]
  }
 ],
 "metadata": {
  "kernelspec": {
   "display_name": "Python 3",
   "language": "python",
   "name": "python3"
  },
  "language_info": {
   "codemirror_mode": {
    "name": "ipython",
    "version": 3
   },
   "file_extension": ".py",
   "mimetype": "text/x-python",
   "name": "python",
   "nbconvert_exporter": "python",
   "pygments_lexer": "ipython3",
   "version": "3.6.3"
  }
 },
 "nbformat": 4,
 "nbformat_minor": 4
}
