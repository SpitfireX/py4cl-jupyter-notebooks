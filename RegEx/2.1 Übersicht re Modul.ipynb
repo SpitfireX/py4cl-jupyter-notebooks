{
 "cells": [
  {
   "cell_type": "markdown",
   "metadata": {},
   "source": [
    "# Übersicht re-Modul\n",
    "\n",
    "## Import"
   ]
  },
  {
   "cell_type": "code",
   "execution_count": 1,
   "metadata": {},
   "outputs": [],
   "source": [
    "# Import des re-Moduls über das import-statement\n",
    "import re"
   ]
  },
  {
   "cell_type": "markdown",
   "metadata": {},
   "source": [
    "Jetzt kann über den Paketnamen auf das Modul zugegriffen werden."
   ]
  },
  {
   "cell_type": "markdown",
   "metadata": {},
   "source": [
    "## Die wichtigsten Methoden im Modul\n",
    "\n",
    "### Matching\n",
    "\n",
    "Beim Matchen wird versucht zu überprüfen, ob ein Eingabestring dem Muster eines regulären Ausdrucks entspricht bzw. dieses enthält. Anders ausgedrückt, wird beim Matchen versucht, nur *ein* Vorkommnis eines Musters in der Eingabe zu finden. Zu diesem Zwecke gibt es im `re`-Modul 3 Methoden:\n",
    "\n",
    "```python\n",
    "re.search(pattern, string, flags=0)\n",
    "\n",
    "re.match(pattern, string, flags=0)\n",
    "\n",
    "re.fullmatch(pattern, string, flags=0)\n",
    "```\n",
    "\n",
    "Alle drei Methoden benötigen einen regulären Ausdruck `pattern`, einen Eingabestring `string` und können optional Flags akzeptieren. Sie unterscheiden sich dadurch, wo das Match im Eingabestring liegen muss:\n",
    "- bei `search` kann das Match an einer beliebigen Stelle im Eingabestring liegen, und das erste Auftreten des Musters wird zurückgegeben\n",
    "- bei `match` muss das Match am Anfang des Strings auftreten, der String kann aber danach noch andere Zeichen beinhalten \n",
    "- bei `fullmatch` muss der komplette String dem gegebenen Muster entsprechen\n",
    "\n",
    "Falls die Methoden ein Match geben, wird dieses als *Match Object* zurückgegeben. Falls kein Match gefunden wurde, wird `None` zurückgegeben."
   ]
  },
  {
   "cell_type": "code",
   "execution_count": 2,
   "metadata": {},
   "outputs": [
    {
     "name": "stdout",
     "output_type": "stream",
     "text": [
      "Regex-Muster: abc\n",
      "\n",
      "Eingabestring:  ----abc----\n",
      "  re.search:    <re.Match object; span=(4, 7), match='abc'>\n",
      "  re.match:     None\n",
      "  re.fullmatch: None\n",
      "\n",
      "Eingabestring:  abc----\n",
      "  re.search:    <re.Match object; span=(0, 3), match='abc'>\n",
      "  re.match:     <re.Match object; span=(0, 3), match='abc'>\n",
      "  re.fullmatch: None\n",
      "\n",
      "Eingabestring:  abc\n",
      "  re.search:    <re.Match object; span=(0, 3), match='abc'>\n",
      "  re.match:     <re.Match object; span=(0, 3), match='abc'>\n",
      "  re.fullmatch: <re.Match object; span=(0, 3), match='abc'>\n"
     ]
    }
   ],
   "source": [
    "eingabestrings = [\n",
    "    \"----abc----\",\n",
    "    \"abc----\",\n",
    "    \"abc\"\n",
    "]\n",
    "\n",
    "regex = r\"abc\"\n",
    "\n",
    "print(\"Regex-Muster:\", regex)\n",
    "\n",
    "for eingabestring in eingabestrings:\n",
    "    print(\"\\nEingabestring: \", eingabestring)\n",
    "    print(\"  re.search:   \", re.search(regex, eingabestring))\n",
    "    print(\"  re.match:    \", re.match(regex, eingabestring))\n",
    "    print(\"  re.fullmatch:\", re.fullmatch(regex, eingabestring))\n"
   ]
  },
  {
   "cell_type": "markdown",
   "metadata": {},
   "source": [
    "Match-Objekte stellen einige nützliche Methoden und Attribute bereit:\n",
    "\n",
    "```python\n",
    "# mo = ein beliebiges Match-Objekt\n",
    "\n",
    "# Zugriff auf das komplette Match\n",
    "mo[0]\n",
    "mo.group(0)\n",
    "\n",
    "# Zugriff auf den ursprünglichen Eingabestring\n",
    "mo.string\n",
    "\n",
    "# Start- und Endindices des Matches im Eingabestring\n",
    "mo.span()  # Start- und Endindex als Tupel\n",
    "mo.start() # Startindex\n",
    "mo.end()   # Endindex\n",
    "```"
   ]
  },
  {
   "cell_type": "markdown",
   "metadata": {},
   "source": [
    "### Suche\n",
    "\n",
    "Die Suchmethoden können dazu benutzt werden, *alle* Vorkommnisse eines Regex-Musters in einem Eingabestring zu finden. Dafür gibt es zwei Methoden:\n",
    "\n",
    "```python\n",
    "re.findall(pattern, string, flags=0)\n",
    "\n",
    "re.finditer(pattern, string, flags=0)\n",
    "```\n",
    "\n",
    "Diese Methoden nehmen, genau so wie die Match-Methoden, ein `pattern` und einen `string` und optional `flags`. In ihrer Funktion gleichen sie sich: beide geben alle sich nicht überlappende Vorkommnisse des gegebenen Musters im Eingabestring zurück. Sie unterscheiden sich aber durch die Art, wie die Vorkommnisse zurückgegeben werden:\n",
    "- `findall` gibt alle Vorkommnisse als Liste von *Strings* zurück\n",
    "- `finditer` liefert einen Iterator, der alle Vorkommnisse als *Match-Objekte* liefert\n",
    "\n",
    "In der Praxis bedeutet das, dass `findall` die gematchten Strings direkt als Liste und ohne weiteren Kontext liefert. Falls Kontext (wie z. B. die Position des Matches) benötigt wird, muss `finditer` benutzt werden."
   ]
  },
  {
   "cell_type": "code",
   "execution_count": 3,
   "metadata": {},
   "outputs": [
    {
     "name": "stdout",
     "output_type": "stream",
     "text": [
      "Liste von Strings mit findall():\n",
      "['Paula', 'hat', 'Hunde', 'und', 'Katze']\n",
      "   Paula\n",
      "   hat\n",
      "   Hunde\n",
      "   und\n",
      "   Katze\n",
      "\n",
      "Iterator über Match Objects mit finditer():\n",
      "<callable_iterator object at 0x0588CB80>\n",
      "   <re.Match object; span=(0, 5), match='Paula'>\n",
      "   <re.Match object; span=(6, 9), match='hat'>\n",
      "   <re.Match object; span=(13, 18), match='Hunde'>\n",
      "   <re.Match object; span=(19, 22), match='und'>\n",
      "   <re.Match object; span=(27, 32), match='Katze'>\n"
     ]
    }
   ],
   "source": [
    "# wir wollen alle Wörter finden, die nur aus den Buchstaben A-Z und a-z bestehen\n",
    "\n",
    "eingabestring = \"Paula hat 10 Hunde und 1/2 Katze.\"\n",
    "\n",
    "regex = r\"[A-Za-z]+\"\n",
    "\n",
    "print(\"Liste von Strings mit findall():\")\n",
    "\n",
    "ergebnis_findall = re.findall(regex, eingabestring)\n",
    "print(ergebnis_findall)\n",
    "\n",
    "for match in ergebnis_findall:\n",
    "    print(\"  \", match)\n",
    "\n",
    "print(\"\\nIterator über Match Objects mit finditer():\")\n",
    "\n",
    "ergebnis_finditer = re.finditer(regex, eingabestring)\n",
    "print(ergebnis_finditer)\n",
    "\n",
    "for match in ergebnis_finditer:\n",
    "    print(\"  \", match)"
   ]
  },
  {
   "cell_type": "markdown",
   "metadata": {},
   "source": [
    "Über die Ergebnisse von beiden Methoden kann ohne Probleme mit einer For-Schleife iteriert werden. Dadurch, dass `finditer()` einen Iterator und keine Liste zurückgibt, muss das Ergebnis erst in eine Liste umgewandelt werden, falls man z. B. direkt auf ein bestimmtes Match Object zugreifen oder die Anzahl der Matches wissen möchte."
   ]
  },
  {
   "cell_type": "code",
   "execution_count": 4,
   "metadata": {},
   "outputs": [
    {
     "name": "stdout",
     "output_type": "stream",
     "text": [
      "Länge: 5\n",
      "Drittes Match: <re.Match object; span=(13, 18), match='Hunde'>\n",
      "Letztes Match: <re.Match object; span=(27, 32), match='Katze'>\n"
     ]
    }
   ],
   "source": [
    "ergebnis_finditer = re.finditer(regex, eingabestring)\n",
    "\n",
    "# Umwandlung in eine Liste\n",
    "matchliste = list(ergebnis_finditer)\n",
    "\n",
    "# Beispiele für Operationen, die nur auf Listen und nicht auf Iteratoren angewendet werden können\n",
    "\n",
    "print(\"Länge:\", len(matchliste)) # länge ausgeben = Anzahl der gefundenen Matches\n",
    "\n",
    "print(\"Drittes Match:\", matchliste[2]) # bestimmtes Match ausgeben\n",
    "\n",
    "print(\"Letztes Match:\", matchliste[-1]) # letztes Match ausgeben\n"
   ]
  },
  {
   "cell_type": "markdown",
   "metadata": {},
   "source": [
    "### Ersetzen"
   ]
  },
  {
   "cell_type": "markdown",
   "metadata": {},
   "source": [
    "Analog zur einfacheren `string.replace()`-Methode kann auch mithilfe von regulären Ausdrücken Teile von Strings ersetzt werden. Dabei können flexible Regex-Muster anstatt von einfachen Zeichenketten ersetzt werden, was für deutlich mehr Flexibilität sorgt. Die dafür relevante Methode ist:\n",
    "```python\n",
    "re.sub(pattern, repl, string, count=0, flags=0)\n",
    "```\n",
    "Die `sub`-Methode nimmt im Gegensatz zu den vorher behandelten Methoden mehr Argumente:\n",
    "- `pattern` ist das zu ersetzende Muster\n",
    "- `repl` ist ein String der für jedes Vorkommniss von `pattern` eingesetzt wird\n",
    "- `string` ist der Eingabestring\n",
    "- `count`: Die maximale Anzahl an Vorkommnissen, die ersetzt werden soll (optional, 0=alle Vorkommnisse)\n",
    "- `flags` (optional)\n",
    "\n",
    "Die Methode gibt immer den Eingabestring zurück, auch, wenn keine Ersetzung möglich war."
   ]
  },
  {
   "cell_type": "code",
   "execution_count": 5,
   "metadata": {},
   "outputs": [
    {
     "name": "stdout",
     "output_type": "stream",
     "text": [
      "Dies ist ein längerer Text, der E-Mail-Adressen wie z. B. <E-Mail> enthält.\n",
      "Um keinen Blindtext selbst schreiben zu müssen, kommt jetzt ein Auszug aus Goethes Werther (mit E-Mail-Adressen vermengt):\n",
      "Eine wunderbare Heiterkeit hat meine ganze Seele eingenommen, gleich den süßen Frühlingsmorgen, die ich mit ganzem Herzen genieße.\n",
      "Ich bin allein und <E-Mail> dieser Gegend, die für solche Seelen geschaffen ist wie die meine.\n",
      "Ich bin so glücklich, mein Bester, so ganz in dem Gefühle von ruhigem Dasein versunken, daß meine Kunst darunter leidet.\n",
      "Ich könnte jetzt nicht zeichnen, nicht einen Strich, und ich, <E-Mail>, bin nie ein größerer Maler gewesen als in diesen Augenblicken.\n",
      "Wenn das liebe Tal um mich dampft, und die hohe Sonne an der Oberfläche der undurchdringlichen Finsternis meines Waldes ruht,\n",
      "und nur einzelne Strahlen sich in das innere Heiligtum stehlen, ich dann im hohen Grase am fallenden Bache liege,\n",
      "und näher an der Erde tausend mannigfaltige Gräschen mir merkwürdig werden; wenn ich das Wimmeln der kleinen Welt zwischen Halmen,\n",
      "die unzähligen, unergründlichen Gestalten der Würmchen, der Mückchen näher an meinem Herzen fühle, und fühle die Gegenwart des Allmächtigen,\n",
      "der uns nach seinem Bilde schuf, das Wehen des Alliebenden, der uns in ewiger Wonne schwebend trägt und erhält; mein Freund, <E-Mail>!\n"
     ]
    }
   ],
   "source": [
    "# Wir wollen E-Mail-Adressen ananonymisieren, indem wir jede Adresse durch \"<E-Mail>\" ersetzen\n",
    "\n",
    "eingabetext = \"\"\"Dies ist ein längerer Text, der E-Mail-Adressen wie z. B. max.mustermann@test.de enthält.\n",
    "Um keinen Blindtext selbst schreiben zu müssen, kommt jetzt ein Auszug aus Goethes Werther (mit E-Mail-Adressen vermengt):\n",
    "Eine wunderbare Heiterkeit hat meine ganze Seele eingenommen, gleich den süßen Frühlingsmorgen, die ich mit ganzem Herzen genieße.\n",
    "Ich bin allein und freue.mich.meines@Lebens.in dieser Gegend, die für solche Seelen geschaffen ist wie die meine.\n",
    "Ich bin so glücklich, mein Bester, so ganz in dem Gefühle von ruhigem Dasein versunken, daß meine Kunst darunter leidet.\n",
    "Ich könnte jetzt nicht zeichnen, nicht einen Strich, und ich, derjunge@werther.com, bin nie ein größerer Maler gewesen als in diesen Augenblicken.\n",
    "Wenn das liebe Tal um mich dampft, und die hohe Sonne an der Oberfläche der undurchdringlichen Finsternis meines Waldes ruht,\n",
    "und nur einzelne Strahlen sich in das innere Heiligtum stehlen, ich dann im hohen Grase am fallenden Bache liege,\n",
    "und näher an der Erde tausend mannigfaltige Gräschen mir merkwürdig werden; wenn ich das Wimmeln der kleinen Welt zwischen Halmen,\n",
    "die unzähligen, unergründlichen Gestalten der Würmchen, der Mückchen näher an meinem Herzen fühle, und fühle die Gegenwart des Allmächtigen,\n",
    "der uns nach seinem Bilde schuf, das Wehen des Alliebenden, der uns in ewiger Wonne schwebend trägt und erhält; mein Freund, wilhelmhasi35@web.de!\"\"\"\n",
    "\n",
    "regex = r\"[a-zA-Z0-9_.+-]+@[a-zA-Z0-9-]+\\.[a-zA-Z0-9-.]+\"\n",
    "\n",
    "ausgabetext = re.sub(regex, \"<E-Mail>\", eingabetext)\n",
    "print(ausgabetext)"
   ]
  },
  {
   "cell_type": "markdown",
   "metadata": {},
   "source": [
    "Die `sub`-Methode kann auch dazu benutzt werden, Teile von Strings zu löschen. Dazu muss das Match einfach durch den leeren String `\"\"` ersetzt werden."
   ]
  },
  {
   "cell_type": "markdown",
   "metadata": {},
   "source": [
    "### Splitten\n",
    "\n",
    "Es ist auch möglich, analog zur `string.split()`-Methode mithilfe von regulären Ausdrücken Stings in Teilstrings zu zerlegen. Dazu dafür zuständige Methode ist :\n",
    "\n",
    "```python\n",
    "re.split(pattern, string, maxsplit=0, flags=0)\n",
    "```\n",
    "Die `split`-Methode nimmt folgende Argumente:\n",
    "- `pattern` ist das Muster, das als Separator für die Teilstrings dienen soll\n",
    "- `string` ist der Eingabestring\n",
    "- `count`: Die maximale Anzahl an Vorkommnissen, die ersetzt werden soll (optional, 0=alle Vorkommnisse)\n",
    "- `flags` (optional)\n",
    "\n",
    "Die Methode gibt immer eine Liste an Teilstrings zurück. Falls der Eingabestring nicht aufgespaltet wurde, wird eine Liste, die nur aus dem Eingabestring besteht, zurückgegeben.\n"
   ]
  },
  {
   "cell_type": "code",
   "execution_count": 6,
   "metadata": {},
   "outputs": [
    {
     "name": "stdout",
     "output_type": "stream",
     "text": [
      "['Das hier ist', 'ein toller Text', 'mit sehr', 'inkonsistenten', 'Zeilenumbrüchen']\n"
     ]
    }
   ],
   "source": [
    "# Der eingabetext soll in einzelne Zeilen aufgespaltet werden.\n",
    "# Dazu wird er an den unregelmäßigen Zeilenumbrüchen aufgespaltet.\n",
    "\n",
    "eingabetext = \"\"\"Das hier ist\n",
    "\n",
    "ein toller Text\n",
    "mit sehr\n",
    "\n",
    "\n",
    "inkonsistenten\n",
    "\n",
    "\n",
    "\n",
    "Zeilenumbrüchen\"\"\"\n",
    "\n",
    "regex = r\"\\n+\"\n",
    "\n",
    "zeilen = re.split(regex, eingabetext)\n",
    "print(zeilen)"
   ]
  }
 ],
 "metadata": {
  "kernelspec": {
   "display_name": "Python 3",
   "language": "python",
   "name": "python3"
  },
  "language_info": {
   "codemirror_mode": {
    "name": "ipython",
    "version": 3
   },
   "file_extension": ".py",
   "mimetype": "text/x-python",
   "name": "python",
   "nbconvert_exporter": "python",
   "pygments_lexer": "ipython3",
   "version": "3.8.2"
  }
 },
 "nbformat": 4,
 "nbformat_minor": 4
}
