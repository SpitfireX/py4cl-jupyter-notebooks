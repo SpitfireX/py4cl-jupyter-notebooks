{
 "cells": [
  {
   "cell_type": "code",
   "execution_count": null,
   "metadata": {},
   "outputs": [],
   "source": [
    "# pseudo-Grep\n",
    "\n",
    "import sys\n",
    "import re\n",
    "import argparse\n",
    "\n",
    "def makeGreen(text):\n",
    "    return (\"\\033[32m\"+str(text)+\"\\033[0m\")\n",
    "\n",
    "def colormatches(line):\n",
    "    beginn=0\n",
    "    for match in pattern.finditer(line):\n",
    "        start=match.start()\n",
    "        end=match.end()\n",
    "        print(line[beginn:start],end=\"\")\n",
    "        beginn=end\n",
    "        print(makeGreen(line[start:end]),end=\"\")\n",
    "\n",
    "    print(line[beginn:],end=\"\")\n",
    "\n",
    "\n",
    "parser = argparse.ArgumentParser(description='Egrep Klon.')\n",
    "parser.add_argument('regex',  type=str, \n",
    "                    help='Hier soll ein Regex String rein')\n",
    "parser.add_argument('--file', type=open)\n",
    "\n",
    "args = parser.parse_args()\n",
    "\n",
    "\n",
    "pattern=re.compile(args.regex)\n",
    "\n",
    "\n",
    "if args.file:\n",
    "    for line in args.file:\n",
    "        if pattern.search(line):\n",
    "            #print(line, end=\"\")\n",
    "            colormatches(line)\n",
    "\n",
    "else:\n",
    "    for line in sys.stdin:\n",
    "        if pattern.search(line):\n",
    "            #print(line, end=\"\")\n",
    "            colormatches(line)\n"
   ]
  }
 ],
 "metadata": {
  "kernelspec": {
   "display_name": "Python 3",
   "language": "python",
   "name": "python3"
  },
  "language_info": {
   "codemirror_mode": {
    "name": "ipython",
    "version": 3
   },
   "file_extension": ".py",
   "mimetype": "text/x-python",
   "name": "python",
   "nbconvert_exporter": "python",
   "pygments_lexer": "ipython3",
   "version": "3.8.2"
  }
 },
 "nbformat": 4,
 "nbformat_minor": 4
}
